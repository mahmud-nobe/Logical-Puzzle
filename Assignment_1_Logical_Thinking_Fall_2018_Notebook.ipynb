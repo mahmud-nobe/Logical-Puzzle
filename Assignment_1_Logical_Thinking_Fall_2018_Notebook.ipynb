{
  "nbformat": 4,
  "nbformat_minor": 0,
  "metadata": {
    "colab": {
      "name": "Assignment 1 Logical Thinking Fall 2018 Notebook.ipynb",
      "version": "0.3.2",
      "provenance": [],
      "collapsed_sections": []
    },
    "kernelspec": {
      "display_name": "Python 3",
      "language": "python",
      "name": "python3"
    }
  },
  "cells": [
    {
      "metadata": {
        "id": "8U1cao28-OMK",
        "colab_type": "text"
      },
      "cell_type": "markdown",
      "source": [
        "# FA Assignment 1: Logical Thinking"
      ]
    },
    {
      "metadata": {
        "id": "IXMuCqik-OMM",
        "colab_type": "text"
      },
      "cell_type": "markdown",
      "source": [
        "This assignment has two distinct sections, each with multiple parts, which allow you to apply the skills learned in the logical thinking unit in a variety of ways. This is an individual assignment: please do not work with other students on any part of this assignment. Both the logic puzzle that you generate and the speech that you select should be unique."
      ]
    },
    {
      "metadata": {
        "id": "_ronur_2-OMN",
        "colab_type": "text"
      },
      "cell_type": "markdown",
      "source": [
        "# Section A: Logical Puzzle"
      ]
    },
    {
      "metadata": {
        "id": "XYc1mMgz-OMO",
        "colab_type": "text"
      },
      "cell_type": "markdown",
      "source": [
        "In this section of the assignment, you will apply formal logic to solve a puzzle. Read all instructions before beginning. In Part 1, you will generate a complex logic puzzle. In Part 2, the clues of the puzzle will be thoroughly analyzed using formal deductive logic, truth tables, and Python code. After your analysis in part 2, you will actually solve the puzzle in part 3. It’s important that you start with a puzzle that allows you to successfully complete parts 2 and 3. If you generate a puzzle that has inadequate clues to complete part 2, or is too difficult to solve in part 3, please start again with a different puzzle. Do not spend too much time solving the logic puzzle itself; focus on HOW you are applying deductive logic to solve the puzzle.\n"
      ]
    },
    {
      "metadata": {
        "id": "PCCHFAut-OMP",
        "colab_type": "text"
      },
      "cell_type": "markdown",
      "source": [
        "## Part A1: Setup\n",
        "Go to the following website: http://www.logic-puzzles.org/init.php. Select any grid size or difficulty setting. Click “Create Puzzle” to generate a custom logic puzzle. Click “Start this puzzle” to start solving it. It is important that the “Active Clues” listed on the right are suitable for successful completion of part 2. There should be at least two clues containing conjunctions, disjunctions, or conditionals. Later, in part 3, you will actually solve the logic puzzle, so if you are unfamiliar with this type of puzzle, you may want to try solving some small puzzles first to warm up. "
      ]
    },
    {
      "metadata": {
        "id": "NGUkmhdS-OMQ",
        "colab_type": "text"
      },
      "cell_type": "markdown",
      "source": [
        "**A1.1. Before moving on, put a screenshot of your custom puzzle into your notebook. **\n",
        "\n",
        "To do so, follow these steps:\n",
        "1. Take a screenshot and save as a .jpeg or .png file. A. mac: command + shift + 4 - saves to desktop B. Windows + Shift + S (Windows 10 only)\n",
        "2. Upload the file into your Cocalc file folder A. Drag the file from Finder into your files in Cocalc OR B. Use the Cocalc Upload button\n",
        "3. Copy the file name of the image\n",
        "4. Paste file name into the Image command: Image(\"FILE_NAME_HERE\") (replace the call for the image in the box below)\n",
        "5. Run the cell. Your image should print.\n"
      ]
    },
    {
      "metadata": {
        "id": "kObGGc9g-OMQ",
        "colab_type": "code",
        "colab": {}
      },
      "cell_type": "code",
      "source": [
        "#replace this filler image with your logic puzzle screenshot\n",
        "from IPython.display import Image\n",
        "\n",
        "#NOTE: As soon as you run this cell, the image will not display. Once you replace the filler code, your image will replace this image. Be sure you do not need to reference the screenshots below. \n",
        "\n",
        "Image(\"FILE_NAME_HERE.png\")"
      ],
      "execution_count": 0,
      "outputs": []
    },
    {
      "metadata": {
        "id": "ZOjemhHI-OMT",
        "colab_type": "text"
      },
      "cell_type": "markdown",
      "source": [
        "**A1.2. Copy-Paste the clues into your notebook.**"
      ]
    },
    {
      "metadata": {
        "id": "m4158LuM-OMU",
        "colab_type": "text"
      },
      "cell_type": "markdown",
      "source": [
        "Edit this cell to copy your clues into the cell."
      ]
    },
    {
      "metadata": {
        "id": "JmfESua9-OMU",
        "colab_type": "text"
      },
      "cell_type": "markdown",
      "source": [
        "## Part A2: Formal Logic and Algorithms [#deduction, #algorithms]\n",
        "\n",
        "**A2.1. Select 2 of the clues from part 1 that contain conjunctions, disjunctions, or conditionals, and translate them into symbolic logic. Be sure to include a symbolization key. **\n",
        "\n",
        "*Note:* you may need to select high difficulty levels or sizes to obtain clues that are not simple atomic sentences. You also may need to reword the sentence into a logically equivalent form before translating it into symbolic logic; in any case, explain what you are doing.\n"
      ]
    },
    {
      "metadata": {
        "id": "t4QXMUjU-OMV",
        "colab_type": "text"
      },
      "cell_type": "markdown",
      "source": [
        "Edit this cell to answer part A2.1"
      ]
    },
    {
      "metadata": {
        "id": "WTB_CR7F-OMW",
        "colab_type": "text"
      },
      "cell_type": "markdown",
      "source": [
        "**A2.2. Negate the two clues you used in part 2 using DeMorgan’s Laws. Then translate them back into English.**\n"
      ]
    },
    {
      "metadata": {
        "id": "kYQobB62-OMW",
        "colab_type": "text"
      },
      "cell_type": "markdown",
      "source": [
        "Edit this cell to answer part A2.2"
      ]
    },
    {
      "metadata": {
        "id": "u68OwLP_-OMX",
        "colab_type": "text"
      },
      "cell_type": "markdown",
      "source": [
        "**A2.3. Use truth tables to evaluate both of your two clues from A2.1. Briefly explain whether the two clues form a consistent set based on your truth tables. Format your table neatly in google docs or google sheets, then paste in the image(s).**\n",
        "\n",
        "    \n",
        "    \n",
        "\n"
      ]
    },
    {
      "metadata": {
        "id": "kBWFsY5_-OMY",
        "colab_type": "code",
        "colab": {}
      },
      "cell_type": "code",
      "source": [
        "#replace this filler image with your truth tables\n",
        "\n",
        "Image(\"FILE_NAME_HERE_2.png\")"
      ],
      "execution_count": 0,
      "outputs": []
    },
    {
      "metadata": {
        "id": "OYBD-Y4V-OMa",
        "colab_type": "text"
      },
      "cell_type": "markdown",
      "source": [
        "Edit this cell to answer part A2.3"
      ]
    },
    {
      "metadata": {
        "id": "-3wgtE0f-OMb",
        "colab_type": "text"
      },
      "cell_type": "markdown",
      "source": [
        "**A2.4. Write a function in Python that checks the truth value of one of your clues from 2.1 using “if”, “and”, “or”, “not”. You may refer to the code in lesson 2.1 and 2.2 for inspiration. The function should:**\n",
        "\n",
        "a. input the truth values of the atomic sentences that make up the statement, represented by boolean variables, and**\n",
        "    \n",
        "b. output the truth value of the full statement (clue).\n",
        "    \n",
        "c. include clearly annotated comments to explain what the code is doing and how it is using logic (read this resource about the importance of comments and this one for further guidance)."
      ]
    },
    {
      "metadata": {
        "id": "gF64lUkO-OMc",
        "colab_type": "code",
        "colab": {}
      },
      "cell_type": "code",
      "source": [
        "# Edit this cell to answer part A2.4"
      ],
      "execution_count": 0,
      "outputs": []
    },
    {
      "metadata": {
        "id": "fsXmdRKcXBZv",
        "colab_type": "text"
      },
      "cell_type": "markdown",
      "source": [
        "**A2.5. *Optional*: Write another function in Python to print a truth table for your statement.**"
      ]
    },
    {
      "metadata": {
        "id": "u2OAd5VLXAf3",
        "colab_type": "code",
        "colab": {}
      },
      "cell_type": "code",
      "source": [
        "# Edit this cell to answer part A2.5"
      ],
      "execution_count": 0,
      "outputs": []
    },
    {
      "metadata": {
        "id": "CLPxkIeW-OMe",
        "colab_type": "text"
      },
      "cell_type": "markdown",
      "source": [
        "**A2.6. *Optional challenge*: Write a Python code that will create a truth table for any logical statement involving any number of atomic sentences and connectives.**"
      ]
    },
    {
      "metadata": {
        "id": "qyl0fv_Y-OMe",
        "colab_type": "code",
        "colab": {}
      },
      "cell_type": "code",
      "source": [
        "# Edit this cell to answer part A2.6"
      ],
      "execution_count": 0,
      "outputs": []
    },
    {
      "metadata": {
        "id": "AnC7we8V-OMg",
        "colab_type": "text"
      },
      "cell_type": "markdown",
      "source": [
        "**A2.7. *Optional super challenge*: Write a Python code that will check the validity for any set of logical sentences that form an argument.**"
      ]
    },
    {
      "metadata": {
        "id": "WLDYUUjV-OMh",
        "colab_type": "code",
        "colab": {}
      },
      "cell_type": "code",
      "source": [
        "# Edit this cell to answer part A2.7"
      ],
      "execution_count": 0,
      "outputs": []
    },
    {
      "metadata": {
        "id": "dNJ40wFT-OMj",
        "colab_type": "text"
      },
      "cell_type": "markdown",
      "source": [
        "## Part A3: Logic Puzzle [#deduction]\n",
        "**A3.1. Work through the puzzle. It will be helpful to write notes for yourself explaining what each clue implies. Describe how you used the rules of deductive logic to evaluate the clues by giving at least one example of an implication that you derived using the common rules of deductive logic.**\n"
      ]
    },
    {
      "metadata": {
        "id": "GQNH4ZVf-OMj",
        "colab_type": "text"
      },
      "cell_type": "markdown",
      "source": [
        "Edit this cell to answer part A3.1"
      ]
    },
    {
      "metadata": {
        "id": "GKX-zt7O-OMk",
        "colab_type": "text"
      },
      "cell_type": "markdown",
      "source": [
        "**A3.2. Put a screenshot of the answer grid into your notebook before hitting submit. Do this before the next step, because once you hit submit, you lose access to the original puzzle and clues, so be sure that you took the necessary screenshots in parts A1 and A3.**"
      ]
    },
    {
      "metadata": {
        "id": "qZhcbdhh-OMk",
        "colab_type": "code",
        "colab": {}
      },
      "cell_type": "code",
      "source": [
        "#replace this filler image with your answer grid\n",
        "\n",
        "Image(\"FILE_NAME_HERE_2.png\")"
      ],
      "execution_count": 0,
      "outputs": []
    },
    {
      "metadata": {
        "id": "55rXw1uK-OMm",
        "colab_type": "text"
      },
      "cell_type": "markdown",
      "source": [
        "**A3.3. Now you can hit submit. Paste your score into your notebook (don’t worry about how long you took).**"
      ]
    },
    {
      "metadata": {
        "id": "vuiLxDKF-OMn",
        "colab_type": "code",
        "colab": {}
      },
      "cell_type": "code",
      "source": [
        "#replace this filler image with your logic puzzle score\n",
        "\n",
        "Image(\"FILE_NAME_HERE_2.png\")"
      ],
      "execution_count": 0,
      "outputs": []
    },
    {
      "metadata": {
        "id": "gsFRBXd4-OMo",
        "colab_type": "text"
      },
      "cell_type": "markdown",
      "source": [
        "**A3.4. *Optional challenge*: Complete the above for a 4x7 logic puzzle on the hardest difficulty.**"
      ]
    },
    {
      "metadata": {
        "id": "QAF5Y36V-OMo",
        "colab_type": "text"
      },
      "cell_type": "markdown",
      "source": [
        "Edit this cell to answer part A3.4"
      ]
    },
    {
      "metadata": {
        "id": "4FMAERNL-OMp",
        "colab_type": "text"
      },
      "cell_type": "markdown",
      "source": [
        "# SECTION B: SPEECH ANALYSIS\n",
        "\n",
        "For this section of the assignment, select part of a historical speech by a world leader in order to analyze and evaluate its logic. You will translate the part of the speech you select into symbolic logic, and determine where the leader makes inductive arguments, deductive arguments, and fallacies.\n"
      ]
    },
    {
      "metadata": {
        "id": "DAgGni9r-OMp",
        "colab_type": "text"
      },
      "cell_type": "markdown",
      "source": [
        "## Part B1: Speech Selection\n",
        "**B1.1. Find a speech with an argument that is at least ten years old. It may be written by, for example, an elected official, dissident, political leader, or religious leader.**"
      ]
    },
    {
      "metadata": {
        "id": "iU-rgPqb-OMq",
        "colab_type": "text"
      },
      "cell_type": "markdown",
      "source": [
        "**B1.2. Cite the speech in APA format and include a hyperlink to the source of the speech.**"
      ]
    },
    {
      "metadata": {
        "id": "Fg3DSZ5U-OMq",
        "colab_type": "text"
      },
      "cell_type": "markdown",
      "source": [
        "Edit this cell to answer part B1.2"
      ]
    },
    {
      "metadata": {
        "id": "_vz1ovXQ-OMr",
        "colab_type": "text"
      },
      "cell_type": "markdown",
      "source": [
        "**B1.3. Write a short synopsis of the speech in your own words (<100 words). You should not provide a transcript of the speech in full, but should quote the specific parts that you use in the analysis (see below).**"
      ]
    },
    {
      "metadata": {
        "id": "43NxIKZ8-OMr",
        "colab_type": "text"
      },
      "cell_type": "markdown",
      "source": [
        "Edit this cell to answer part B1.3"
      ]
    },
    {
      "metadata": {
        "id": "k7UaZxAg-OMs",
        "colab_type": "text"
      },
      "cell_type": "markdown",
      "source": [
        "## Part B2: Argument Analysis [#deduction, #induction, #fallacies]\n",
        "\n",
        "**B2.1. Identify a deductive argument from the speech. Include a copy of this part of the speech with proper citation. Analyze this argument:**\n",
        "\n",
        "**a. Rewrite the argument in natural language in simple terms with clear use of logical connectives and atomic sentences so that it is amenable for analysis with the next steps. Do your best not to change the meaning of the argument. You may add premises that you believe to be implied but please justify your interpretation.**\n",
        "\n",
        "**b. Translate the argument into symbolic logic. You should not be translating the whole speech - just the statements that comprise the argument.**\n",
        "\n",
        "**c. Why is this argument deductive? Is the argument valid? Support your answer with a truth table and/or a proof.**\n",
        "\n",
        "**d. Is the argument sound? Why or why not? (<300 words for the valid/sound analysis)**"
      ]
    },
    {
      "metadata": {
        "id": "lMpPze66-OMs",
        "colab_type": "text"
      },
      "cell_type": "markdown",
      "source": [
        "Edit this cell to answer part B2.1 or add more markdown cells as needed."
      ]
    },
    {
      "metadata": {
        "id": "KF2niyqh-OMt",
        "colab_type": "text"
      },
      "cell_type": "markdown",
      "source": [
        "**B2.2. Identify an inductive argument from the speech. Include a copy of this part of the speech with proper citation. Analyze this argument:**\n",
        "\n",
        "**a. Why is this argument inductive? Can you identify which type/form of induction it is?**\n",
        "\n",
        "**b. Is the inductive reasoning weak or strong, and why? **\n",
        "\n",
        "**c. Write another inductive conclusion based on the premises you’ve identified. Compare this conclusion to the one offered in the speech and comment on which argument is stronger. (<250 words for the induction analysis)**\n",
        "\n"
      ]
    },
    {
      "metadata": {
        "id": "N0gO2dna-OMt",
        "colab_type": "text"
      },
      "cell_type": "markdown",
      "source": [
        "Edit this cell to answer part B2.2  or add more markdown cells as needed."
      ]
    },
    {
      "metadata": {
        "id": "2yiqptzV-OMt",
        "colab_type": "text"
      },
      "cell_type": "markdown",
      "source": [
        "**B2.3. Find two fallacies in the speech. Copy the parts of the speech in which the fallacies appear, with proper citation.**\n",
        "\n",
        "**a. Name the fallacies and explain why they are fallacies.**\n",
        "    \n",
        "**b. Explain how one of the fallacies could be corrected. Would correcting the fallacy change the conclusion of the argument, or one or more of the premises? Why or why not? (<400 words for the fallacies analysis)**"
      ]
    },
    {
      "metadata": {
        "id": "rNcYU62O-OMu",
        "colab_type": "text"
      },
      "cell_type": "markdown",
      "source": [
        "Edit this cell to answer part B2.3 or add more markdown cells as needed."
      ]
    },
    {
      "metadata": {
        "id": "Bb0wsAwZ-OMu",
        "colab_type": "text"
      },
      "cell_type": "markdown",
      "source": [
        "# Section C: REFLECTION\n",
        "\n",
        "**Reflect on what you learned in this assignment. Address the following points: (<200 words)  [#scienceoflearning + other HCs per use]**\n",
        "\n",
        "**C.1. How did the principles from the science of learning deepen your knowledge of #induction, #deduction, #algorithms, and #fallacies while working on this assignment?**\n",
        "\n"
      ]
    },
    {
      "metadata": {
        "id": "SUX5dKih-OMv",
        "colab_type": "text"
      },
      "cell_type": "markdown",
      "source": [
        "Edit this cell to answer part C.1"
      ]
    },
    {
      "metadata": {
        "id": "fPrxV4zq-OMv",
        "colab_type": "text"
      },
      "cell_type": "markdown",
      "source": [
        "**2. Throughout both sections, what did you learn about the connection between formal logic, language, computer code, and the use of logical thinking in the real world?**"
      ]
    },
    {
      "metadata": {
        "id": "9WtQLENE-OMw",
        "colab_type": "text"
      },
      "cell_type": "markdown",
      "source": [
        "Edit this cell to answer part C.2"
      ]
    },
    {
      "metadata": {
        "id": "CTsohe7--OMw",
        "colab_type": "text"
      },
      "cell_type": "markdown",
      "source": [
        "**3. *Optional*: Do you think one should believe the selected speech even though it contains errors in reasoning (such as fallacies or errors in deductive or inductive reasoning)? Why or why not? (<200 words)**"
      ]
    },
    {
      "metadata": {
        "id": "O8uPOoQQ-OMx",
        "colab_type": "text"
      },
      "cell_type": "markdown",
      "source": [
        "Edit this cell to answer part C.3"
      ]
    },
    {
      "metadata": {
        "id": "-8l0dP-_-OMx",
        "colab_type": "text"
      },
      "cell_type": "markdown",
      "source": [
        "**4. *Optional*: Create a new practice problem for future classes that you think is a good test of the skills covered by one or more of these HCs. Provide the complete step-by-step solution, and a justification for why this is a good example. It should not include a logic puzzle or speech analysis like the above. It should be an entirely different kind of thing.**"
      ]
    },
    {
      "metadata": {
        "id": "PDegTacq-OMx",
        "colab_type": "text"
      },
      "cell_type": "markdown",
      "source": [
        "Edit this cell to answer part C.4"
      ]
    },
    {
      "metadata": {
        "id": "68CC4SzV-OMy",
        "colab_type": "text"
      },
      "cell_type": "markdown",
      "source": [
        "# You're ready to submit your assignment!\n",
        "\n",
        "To submit, you need to save this file in two ways.\n",
        "\n",
        "1. As an .ipynb Notebook\n",
        "2. As a PDF\n",
        "\n",
        "For both files, simply go to ```File/Download as``` ... and select the appropriate file type. To upload to ALF, submit **both** your .ipynb Notebook in a zipped folder and the PDF.  \n",
        "\n",
        "If you have trouble with with downloading the file as PDF, refer to this [document](https://docs.google.com/document/d/1gRMol9Ebbvyu1mvEKzma92o_N7ZbNXsPIb1QdQV0TeE/edit?usp=sharing)"
      ]
    },
    {
      "metadata": {
        "id": "gFBNkrS4-OMy",
        "colab_type": "text"
      },
      "cell_type": "markdown",
      "source": [
        "# Congrats! You've completed your first FA assignment! "
      ]
    }
  ]
}